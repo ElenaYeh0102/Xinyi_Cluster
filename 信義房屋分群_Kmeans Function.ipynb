{
 "cells": [
  {
   "cell_type": "code",
   "execution_count": 1,
   "id": "d7ed786a",
   "metadata": {},
   "outputs": [],
   "source": [
    "import pandas as pd\n",
    "from sklearn.cluster import KMeans\n",
    "from sklearn.preprocessing import StandardScaler"
   ]
  },
  {
   "cell_type": "code",
   "execution_count": 2,
   "id": "47a78526",
   "metadata": {},
   "outputs": [],
   "source": [
    "def cluster_analysis(data_path, min_clusters=2, max_clusters=4):\n",
    "    # 讀取Excel文件\n",
    "    df = pd.read_csv(data_path)\n",
    "    df = df.dropna(axis=0)\n",
    "\n",
    "    rename_dict = {\n",
    "        'A': '政府機構(A)',\n",
    "        'B': '各級學校(B)',\n",
    "        'C': '醫療院所(C)',\n",
    "        'D': '飯店旅館(D)',\n",
    "        'E': '金融機構(E)',\n",
    "        'F': '觀光旅遊(F)',\n",
    "        'G': '休閒娛樂(G)',\n",
    "        'H': '逛街購物(H)',\n",
    "        'I': '餐飲小吃(I)',\n",
    "        'J': '行車服務(J)',\n",
    "        'K': '交通設施(K)',\n",
    "        'L': '民間機構(L)',\n",
    "        'X': '鄰避設施(X)'\n",
    "    }\n",
    "\n",
    "    df.rename(columns=rename_dict, inplace=True)\n",
    "\n",
    "    # 先保存原始資料，以在最後加上總價元和車位總價元\n",
    "    orginal_data = pd.read_csv(data_path)\n",
    "    orginal_data = orginal_data.dropna(axis=0)\n",
    "\n",
    "    df.drop(columns=['總價元'], inplace=True)\n",
    "    df.drop(columns=['車位總價元'], inplace=True)\n",
    "\n",
    "    corr_features = set()\n",
    "\n",
    "    # 建立相關矩陣\n",
    "    corr_matrix = df.corr()\n",
    "\n",
    "    for i in range(len(corr_matrix.columns)):\n",
    "        for j in range(i):\n",
    "            if abs(corr_matrix.iloc[i, j]) > 0.8:\n",
    "                colname = corr_matrix.columns[i]\n",
    "                corr_features.add(colname)\n",
    "\n",
    "    # Feature Selection\n",
    "    df.drop(labels=corr_features, axis=1, inplace=True)\n",
    "\n",
    "    cluster_results = []\n",
    "\n",
    "    for k in range(min_clusters, max_clusters+1):\n",
    "        # 資料標準化\n",
    "        scaler = StandardScaler()\n",
    "        scaled_features = scaler.fit_transform(df)  # 使用整個 DataFrame 作為特徵\n",
    "\n",
    "        # 建立 KMeans 模型\n",
    "        kmeans = KMeans(n_clusters=k, random_state=42)\n",
    "        kmeans.fit(scaled_features)\n",
    "\n",
    "        # 輸出聚類結果\n",
    "        cluster_label = f'分群結果_K-means_{k}'\n",
    "        df[cluster_label] = kmeans.labels_\n",
    "        cluster_results.append(cluster_label)\n",
    "\n",
    "    # 將原始資料加入總價元和車位總價元\n",
    "    df['總價元'] = orginal_data['總價元']\n",
    "    df['車位總價元'] = orginal_data['車位總價元']\n",
    "\n",
    "    return df, cluster_results"
   ]
  },
  {
   "cell_type": "code",
   "execution_count": 3,
   "id": "ebf0f64c",
   "metadata": {},
   "outputs": [
    {
     "name": "stderr",
     "output_type": "stream",
     "text": [
      "/Users/apple/anaconda3/lib/python3.11/site-packages/sklearn/cluster/_kmeans.py:1412: FutureWarning: The default value of `n_init` will change from 10 to 'auto' in 1.4. Set the value of `n_init` explicitly to suppress the warning\n",
      "  super()._check_params_vs_input(X, default_n_init=10)\n",
      "/Users/apple/anaconda3/lib/python3.11/site-packages/sklearn/cluster/_kmeans.py:1412: FutureWarning: The default value of `n_init` will change from 10 to 'auto' in 1.4. Set the value of `n_init` explicitly to suppress the warning\n",
      "  super()._check_params_vs_input(X, default_n_init=10)\n",
      "/Users/apple/anaconda3/lib/python3.11/site-packages/sklearn/cluster/_kmeans.py:1412: FutureWarning: The default value of `n_init` will change from 10 to 'auto' in 1.4. Set the value of `n_init` explicitly to suppress the warning\n",
      "  super()._check_params_vs_input(X, default_n_init=10)\n"
     ]
    },
    {
     "name": "stdout",
     "output_type": "stream",
     "text": [
      "   土地移轉總面積平方公尺      移轉層次      總樓層數  建物現況格局-房  建物現況格局-廳  建物現況格局-衛  建物現況格局-隔間  \\\n",
      "0     0.009922 -0.635776 -1.057031  0.412186  0.584395 -0.445601   0.302105   \n",
      "1    -0.199129  0.330714 -0.319392  0.412186  0.584395 -0.445601   0.302105   \n",
      "2    -0.208861  1.055582  0.418246 -0.203066 -0.600795 -1.333524   0.302105   \n",
      "3    -0.015286 -0.877399  0.418246 -0.818318 -0.600795 -0.445601   0.302105   \n",
      "4    -0.308404  1.780449  0.787065 -0.818318 -0.600795 -0.445601   0.302105   \n",
      "\n",
      "   有無管理組織  車位移轉總面積平方公尺    附屬建物面積  ...  主要建材_石造  主要建材_預力  主要建材_木造  主要建材_土磚石混合造  \\\n",
      "0       0    -0.286596 -0.169071  ...        0        0        0            0   \n",
      "1       1    -0.286596 -0.169071  ...        0        0        0            0   \n",
      "2       1    -0.286596 -0.169071  ...        0        0        0            0   \n",
      "3       1    -0.286596 -0.169071  ...        0        0        0            0   \n",
      "4       1    -0.286596 -0.169071  ...        0        0        0            0   \n",
      "\n",
      "   主要建材_壁式預鑄  分群結果_K-means_2  分群結果_K-means_3  分群結果_K-means_4       總價元  \\\n",
      "0          0               0               2               3  11500000   \n",
      "1          0               0               2               3  15500000   \n",
      "2          0               0               1               2  18500000   \n",
      "3          0               0               1               2  19000000   \n",
      "4          0               0               1               2   4000000   \n",
      "\n",
      "     車位總價元  \n",
      "0 -0.23384  \n",
      "1 -0.23384  \n",
      "2 -0.23384  \n",
      "3 -0.23384  \n",
      "4 -0.23384  \n",
      "\n",
      "[5 rows x 94 columns]\n"
     ]
    }
   ],
   "source": [
    "# 使用範例\n",
    "result_df, cluster_result_columns = cluster_analysis('/Users/apple/Desktop/0405(四版).csv')\n",
    "print(result_df.head())"
   ]
  },
  {
   "cell_type": "code",
   "execution_count": null,
   "id": "26e010f3",
   "metadata": {},
   "outputs": [],
   "source": []
  }
 ],
 "metadata": {
  "kernelspec": {
   "display_name": "Python 3 (ipykernel)",
   "language": "python",
   "name": "python3"
  },
  "language_info": {
   "codemirror_mode": {
    "name": "ipython",
    "version": 3
   },
   "file_extension": ".py",
   "mimetype": "text/x-python",
   "name": "python",
   "nbconvert_exporter": "python",
   "pygments_lexer": "ipython3",
   "version": "3.11.5"
  }
 },
 "nbformat": 4,
 "nbformat_minor": 5
}
